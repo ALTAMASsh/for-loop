{
 "cells": [
  {
   "cell_type": "markdown",
   "id": "825a8bd6-6da1-40fa-826f-d2f54c302aaf",
   "metadata": {
    "jp-MarkdownHeadingCollapsed": true,
    "tags": []
   },
   "source": [
    "###  Basic Level:"
   ]
  },
  {
   "cell_type": "code",
   "execution_count": null,
   "id": "8fd398b5-df03-4b4f-8a4c-281f7f4baa77",
   "metadata": {},
   "outputs": [],
   "source": [
    "#1. Write a Python program to print the numbers from 1 to 10 using a `for` loop.\n",
    "for i in range(1,11):\n",
    "    print (i)"
   ]
  },
  {
   "cell_type": "code",
   "execution_count": null,
   "id": "19819276-e211-4cae-86da-19edccf8605e",
   "metadata": {},
   "outputs": [],
   "source": [
    "#2. Create a program that calculates the sum of all numbers in a list using a `for` loop\n",
    "def sum_of_list(list):\n",
    "    k = []\n",
    "    for i in list:\n",
    "        k.append(i)\n",
    "    return sum(k)"
   ]
  },
  {
   "cell_type": "code",
   "execution_count": null,
   "id": "664c493a-0eb7-457c-8940-bce23c235528",
   "metadata": {},
   "outputs": [],
   "source": [
    "list = [1,2,3,5,6]\n",
    "sum_of_list(list)"
   ]
  },
  {
   "cell_type": "code",
   "execution_count": 69,
   "id": "0332d385-ce43-4726-930e-c14f6b194fc0",
   "metadata": {},
   "outputs": [],
   "source": [
    "#3. Write a program to print the characters of a string in reverse order using a `for` loop\n",
    "def reverser(string):\n",
    "    str = \"\"\n",
    "    for i in string:\n",
    "        str = i+str\n",
    "    return str\n",
    "      "
   ]
  },
  {
   "cell_type": "code",
   "execution_count": 111,
   "id": "666a9f56-ea12-4165-95a8-9a753a5d54cb",
   "metadata": {},
   "outputs": [],
   "source": [
    "#4. Develop a program that finds the factorial of a given number using a `for` loop\n",
    "def fact(n):\n",
    "    if n==0 or n==1:\n",
    "        return 1\n",
    "    result = 1\n",
    "    for i in range(1,n+1):\n",
    "        result *=i\n",
    "    return result"
   ]
  },
  {
   "cell_type": "code",
   "execution_count": 126,
   "id": "792de67e-78b4-4acf-9e46-b174b7d4feeb",
   "metadata": {},
   "outputs": [],
   "source": [
    "#5. Create a program to print the multiplication table of a given number using a `for` loop.\n",
    "def table(x):\n",
    "    # For loop to iterate over the numbers from 1 to 10\n",
    "    for i in range(1,11):\n",
    "        print (x,\"x\",i, \"=\", x * i)\n",
    "        "
   ]
  },
  {
   "cell_type": "code",
   "execution_count": null,
   "id": "80232a56-d6bb-426a-9eac-241860fea774",
   "metadata": {},
   "outputs": [],
   "source": [
    "#6. Write a program that counts the number of even and odd numbers in a list using a `for` loop\n",
    "def even_odd_counter(list):\n",
    "    even_count,odd_count = 0,0\n",
    "    for i in list:\n",
    "        if i%2 == 0:\n",
    "            even_count+= 1\n",
    "        else:\n",
    "            odd_count+= 1\n",
    "            \n",
    "    print(\"Even numbers in the list: \", even_count)\n",
    "    print(\"Odd numbers in the list: \", odd_count)            \n",
    "list = [1,2,3,5,6,7,8,9,0]\n",
    "even_odd_counter(list)    "
   ]
  },
  {
   "cell_type": "code",
   "execution_count": null,
   "id": "3d142a1e-b6b8-431f-a7a7-4cb24d6444ff",
   "metadata": {},
   "outputs": [],
   "source": [
    "#7. Develop a program that prints the squares of numbers from 1 to 5 using a `for` loop\n",
    "def squares(x):\n",
    "    for i in range(1,6):\n",
    "        r = i*i\n",
    "        print(i,\"square is\",r)\n",
    "squares(5)        "
   ]
  },
  {
   "cell_type": "code",
   "execution_count": null,
   "id": "df3d2918-75c8-4402-9ac4-b8939649dd5e",
   "metadata": {},
   "outputs": [],
   "source": [
    "#8. Create a program to find the length of a string without using the `len()` function\n",
    "def lenght(string):\n",
    "    count = 0\n",
    "    for i in string:\n",
    "        count +=1\n",
    "    return count    \n",
    "string = \"najish\"\n",
    "lenght(string)\n"
   ]
  },
  {
   "cell_type": "code",
   "execution_count": null,
   "id": "714d0ccc-817b-4be0-a659-594c7b049c63",
   "metadata": {},
   "outputs": [],
   "source": [
    "#9. Write a program that calculates the average of a list of numbers using a `for` loop\n",
    "def Average(lst):\n",
    "    sum_of_list = 0\n",
    "    for i in range(len(lst)):\n",
    "        sum_of_list += lst[i]\n",
    "    average = sum_of_list/len(lst)\n",
    "    return average\n",
    "# Driver Code\n",
    "lst = [15, 9, 55, 41, 3, 2, 62, 49]\n",
    "average = Average(lst)\n",
    "print(\"Average of the list =\", round(average, 2)) "
   ]
  },
  {
   "cell_type": "code",
   "execution_count": 216,
   "id": "243e4bfe-8415-4ea9-aa5c-11c14e5ffe68",
   "metadata": {},
   "outputs": [],
   "source": [
    "#10. Develop a program that prints the first `n` Fibonacci numbers using a `for` loop\n",
    "def fib(n):\n",
    "    if n == 0 or n == 1:\n",
    "        return n\n",
    "    for i in range(n+1):\n",
    "        return fib(n-1) + fib(n-2)\n",
    "        "
   ]
  },
  {
   "cell_type": "markdown",
   "id": "9fae2b8b-60a8-41f5-9020-de78ea25143a",
   "metadata": {
    "jp-MarkdownHeadingCollapsed": true,
    "tags": []
   },
   "source": [
    "### Intermediate Level:\n",
    "\n",
    " "
   ]
  },
  {
   "cell_type": "code",
   "execution_count": 35,
   "id": "78f34a4c-328e-4108-bc30-00d329c9db43",
   "metadata": {},
   "outputs": [],
   "source": [
    "#11. Write a program to check if a given list contains any duplicates using a `for` loop.\n",
    "def duplicate_find(list):\n",
    "    for i in range(len(list)):\n",
    "        for j in range(0,i):\n",
    "            if list[i] == list[j]:\n",
    "                return True\n",
    "    return(\"NO DUPLICATE AVAILABLE\")"
   ]
  },
  {
   "cell_type": "code",
   "execution_count": 36,
   "id": "e1f13523-a0a6-475a-bff5-261f07849208",
   "metadata": {},
   "outputs": [
    {
     "data": {
      "text/plain": [
       "True"
      ]
     },
     "execution_count": 36,
     "metadata": {},
     "output_type": "execute_result"
    }
   ],
   "source": [
    "list = [1,2,3,4,5,61,4]\n",
    "duplicate_find(list)"
   ]
  },
  {
   "cell_type": "code",
   "execution_count": 56,
   "id": "ee7aa347-6d81-495d-94d8-8b2d485e345a",
   "metadata": {},
   "outputs": [],
   "source": [
    "#12. Create a program that prints the prime numbers in a given range using a `for` loop.\n",
    "def prime(s,e):\n",
    "    prime_list = []\n",
    "    for i in range(s,e):\n",
    "        if i == 0 or i == 1:\n",
    "            continue\n",
    "        else:\n",
    "            for j in range(2,int(i/2)+1):\n",
    "                if i % j == 0:\n",
    "                    break\n",
    "            else:\n",
    "                prime_list.append(i)\n",
    "    return prime_list"
   ]
  },
  {
   "cell_type": "code",
   "execution_count": 70,
   "id": "543ee241-bf74-4d9e-a5bd-55aa27bb48a1",
   "metadata": {},
   "outputs": [],
   "source": [
    "#13. Develop a program that counts the number of vowels in a string using a `for` loop.\n",
    "def count_vowels(string):\n",
    "    V = (\"a,e,i,o,u\")\n",
    "    count = 0\n",
    "    for i in string:\n",
    "        if i in V:\n",
    "            count +=1\n",
    "    return count\n",
    "    "
   ]
  },
  {
   "cell_type": "code",
   "execution_count": 103,
   "id": "5bf7ca6b-9df9-4019-82a3-cf6496efda82",
   "metadata": {},
   "outputs": [],
   "source": [
    "#14. Write a program to find the maximum element in a 2D list using a nested `for` loop\n",
    "def second_dimantion(lis):\n",
    "    maxi = []\n",
    "    for i in lis:\n",
    "        max_value = max(i)\n",
    "        maxi.append(max_value)\n",
    "    return maxi\n",
    "        "
   ]
  },
  {
   "cell_type": "code",
   "execution_count": 7,
   "id": "23d7e7b3-89ad-47de-9876-9f8fa0c31d41",
   "metadata": {},
   "outputs": [],
   "source": [
    "#15. Create a program that removes all occurrences of a specific element from a list using a `for` loop.\n",
    "def  removes_specific_element(list,x):\n",
    "    R = [i for i in list if i !=x]\n",
    "    return R\n",
    "\n",
    "    "
   ]
  },
  {
   "cell_type": "code",
   "execution_count": null,
   "id": "aff8bbce-75bc-4bb8-889d-5a042f56e055",
   "metadata": {},
   "outputs": [],
   "source": [
    "#16. Develop a program that generates a multiplication table for numbers from 1 to 5 using a nested `for` loop.\n",
    "for i in range(1, 6):\n",
    "    for j in range(1, 11):\n",
    "        print(i * j, end=\" \")\n",
    "    print()"
   ]
  },
  {
   "cell_type": "code",
   "execution_count": 73,
   "id": "1be19adc-614d-42e7-8eb6-ac5f86cde0b1",
   "metadata": {},
   "outputs": [],
   "source": [
    "#17. Write a program that converts a list of Fahrenheit temperatures to Celsius using a `for` loop\n",
    "def f_2_c(fah):\n",
    "    E = []\n",
    "    for F in fah:\n",
    "        C = (F - 32)* 5 / 9\n",
    "        E.append(C)\n",
    "    return E"
   ]
  },
  {
   "cell_type": "code",
   "execution_count": 101,
   "id": "6a57b3d8-f560-4615-8d95-f0d2a95f981b",
   "metadata": {},
   "outputs": [],
   "source": [
    "#18. Create a program to print the common elements from two lists using a `for` loop.\n",
    "def commen_finder(lst1,lst2):\n",
    "    for i in lst1:\n",
    "        for j in lst2:\n",
    "            if i == j:\n",
    "                print(i)               "
   ]
  },
  {
   "cell_type": "code",
   "execution_count": null,
   "id": "755d6153-46ad-4509-9bfc-85a551aa28a8",
   "metadata": {},
   "outputs": [],
   "source": [
    "#19. Develop a program that prints the pattern of right-angled triangles using a `for` loop. Use ‘*’ to draw the pattern\n",
    "x=int(input(\"Enter row number=\\n\"))\n",
    "for i in range(x):\n",
    "    for j in range(i+1):\n",
    "        print(\"*\",end='')\n",
    "    print(\"\")"
   ]
  },
  {
   "cell_type": "code",
   "execution_count": null,
   "id": "17951610-23d2-4d8b-9aa1-e2b67a4b35af",
   "metadata": {},
   "outputs": [],
   "source": [
    "#20. Write a program to find the greatest common divisor (GCD) of two numbers using a `for` loop\n",
    "def GCD_Loop( a, b):  \n",
    "    if a > b:    \n",
    "        temp = b  \n",
    "    else:  \n",
    "        temp = a  \n",
    "    for i in range(1, temp + 1):  \n",
    "        if (( a % i == 0) and (b % i == 0 )):  \n",
    "            gcd = i  \n",
    "    return gcd  \n"
   ]
  },
  {
   "cell_type": "markdown",
   "id": "f31a00d3-eb3c-4af0-ae61-36aa79208f01",
   "metadata": {
    "jp-MarkdownHeadingCollapsed": true,
    "tags": []
   },
   "source": [
    "### Advanced Level:"
   ]
  },
  {
   "cell_type": "code",
   "execution_count": null,
   "id": "b2c38f80-49ca-4844-9159-a24fa553f18a",
   "metadata": {},
   "outputs": [],
   "source": [
    "#21. Create a program that calculates the sum of the digits of numbers in a list using a list comprehension.\n",
    "import operator\n",
    "list1 = [12, 15, 3, 10] ;s=0\n",
    "for i in list1:\n",
    "    s=s+operator.add(0,i)\n",
    "print(s)"
   ]
  },
  {
   "cell_type": "code",
   "execution_count": 1,
   "id": "2e01f44c-5589-4c37-b753-0dcb08f6a8d9",
   "metadata": {},
   "outputs": [],
   "source": [
    "#22. Write a program to find the prime factors of a given number using a `for` loop and list comprehension.\n",
    "  \n",
    "import math \n",
    "def primeFactors(n): \n",
    "      \n",
    "    while n % 2 == 0: \n",
    "        print(2),\n",
    "        n = n / 2\n",
    "          \n",
    "    for i in range(3,int(math.sqrt(n))+1,2): \n",
    "          \n",
    "        while n % i== 0: \n",
    "            print (i), \n",
    "            n = n / i \n",
    "              \n",
    "    if n > 2: \n",
    "        print (n) "
   ]
  },
  {
   "cell_type": "code",
   "execution_count": null,
   "id": "42d752fd-f691-4958-86b4-76d0fc91447a",
   "metadata": {},
   "outputs": [],
   "source": [
    "#23. Develop a program that extracts unique elements from a list and stores them in a new list using a list comprehension.\n",
    "def unique(list1):\n",
    " \n",
    "\n",
    "    unique_list = []\n",
    " \n",
    "   \n",
    "    for x in list1:\n",
    "       \n",
    "        if x not in unique_list:\n",
    "            unique_list.append(x)\n",
    "    \n",
    "    for x in unique_list:\n",
    "        return  unique_list\n",
    "list1 = [10, 20, 10, 30, 40, 40]\n",
    "print(\"the unique values from 1st list is\")\n",
    "unique(list1) "
   ]
  },
  {
   "cell_type": "code",
   "execution_count": null,
   "id": "9ee2c92c-0613-4810-8928-11daa65248af",
   "metadata": {},
   "outputs": [],
   "source": [
    "#24. Create a program that generates a list of all palindromic numbers up to a specified limit using a list comprehension.\n",
    "def palindromeNumbers(list_a):\n",
    "    c = 0\n",
    "    for i in list_a:\n",
    "        if str(i) == str(i)[::-1]:\n",
    "            print(i)\n",
    "            c += 1\n",
    "    print(\"Total palindrome nos. are\", c)\n",
    " \n",
    " \n",
    "list_a = [10, 121, 133, 155, 141, 252]\n",
    "palindromeNumbers(list_a)"
   ]
  },
  {
   "cell_type": "code",
   "execution_count": 42,
   "id": "aa9ea19f-7038-4ac8-83f4-d56c1d7c6b8e",
   "metadata": {},
   "outputs": [],
   "source": [
    "#25. Write a program to flatten a nested list using list comprehension\n",
    "def Flatten(list):\n",
    "    return [item for i in list for item in i]"
   ]
  },
  {
   "cell_type": "code",
   "execution_count": null,
   "id": "0cfbf06e-592f-4d9b-91b9-06d594449e92",
   "metadata": {},
   "outputs": [],
   "source": [
    "#26. Develop a program that computes the sum of even and odd numbers in a list separately using list comprehension\n",
    "def sum_of_even_odd_digits(test_list):\n",
    "    even_sum = 0\n",
    "    odd_sum = 0\n",
    "     \n",
    "    for num in test_list:\n",
    "        while num != 0:\n",
    "            digit = num % 10\n",
    "            if digit % 2 == 0:\n",
    "                even_sum += digit\n",
    "            else:\n",
    "                odd_sum += digit\n",
    "            num //= 10\n",
    "             \n",
    "    return even_sum, odd_sum\n",
    " \n",
    "test_list = [345, 893, 1948, 34, 2346]\n",
    "even_sum, odd_sum = sum_of_even_odd_digits(test_list)\n",
    "print(\"Odd digit sum :\", odd_sum)\n",
    "print(\"Even digit sum :\", even_sum)"
   ]
  },
  {
   "cell_type": "code",
   "execution_count": null,
   "id": "9e50b869-b2f3-4e78-99dc-24f102feb690",
   "metadata": {},
   "outputs": [],
   "source": [
    "#27. Create a program that generates a list of squares of odd numbers between 1 and 10 using list comprehension\n",
    "def odd_square(list):\n",
    "        for num in list:\n",
    "            if num % 2 != 0:\n",
    "                print(num**2)\n",
    "list=[1,2,3,4,5,6,7,8,9,10]\n",
    "odd_square(list)\n",
    "                "
   ]
  },
  {
   "cell_type": "code",
   "execution_count": null,
   "id": "7f8c21b6-a9ef-4253-92fd-68305d5be56b",
   "metadata": {},
   "outputs": [],
   "source": [
    "#27. Create a program that generates a list of squares of odd numbers between 1 and 10 using list comprehension\n",
    "data = range(1,11)\n",
    "result = [i*i for i in data if i % 2 != 0]\n",
    "print(result)"
   ]
  },
  {
   "cell_type": "code",
   "execution_count": 16,
   "id": "04db6bb0-c011-4c28-8f5d-c2da7e471309",
   "metadata": {},
   "outputs": [],
   "source": [
    "#28. Write a program that combines two lists into a dictionary using list comprehension.\n",
    "def key_value(key,value):\n",
    "    # Create a dictionary using list comprehension\n",
    "    dict = {key: value for key, value in zip(key, values)}\n",
    "    return dict"
   ]
  },
  {
   "cell_type": "code",
   "execution_count": null,
   "id": "ec14fe1b-b5cf-4c59-bd05-0bc849ce786d",
   "metadata": {},
   "outputs": [],
   "source": [
    "#29. Develop a program that extracts the vowels from a string and stores them in a list using list comprehension\n",
    "def extract_vowels(string):\n",
    "    vowels = [i for i in string if i in \"aeiouAEIOU\"]\n",
    "    return vowels\n",
    "    string = \"This is a string\"\n",
    "    vowels = extract_vowels(string)\n",
    "    print(vowels)\n"
   ]
  },
  {
   "cell_type": "code",
   "execution_count": 1,
   "id": "bdd4f959-f728-48ad-89b2-82f28356192d",
   "metadata": {},
   "outputs": [],
   "source": [
    "#30. Create a program that removes all non-numeric characters from a list of strings using list comprehension.\n",
    "import re\n",
    "# PLEASE ENTER LIST OF STRING\n",
    "def extract_non_numeric_character(list):\n",
    "    num = '[0-9]'\n",
    "    list =[re.sub(num,\"\",i)for i in list]\n",
    "    return list"
   ]
  },
  {
   "cell_type": "markdown",
   "id": "de971691-06ae-4f72-aed5-36446c8476b0",
   "metadata": {
    "tags": []
   },
   "source": [
    "### Challenge Level:\n"
   ]
  },
  {
   "cell_type": "code",
   "execution_count": 20,
   "id": "46b3bb50-1df6-4881-a72d-2ec646c81971",
   "metadata": {},
   "outputs": [],
   "source": [
    "#31. Write a program to generate a list of prime numbers using the Sieve of Eratosthenes algorithm and list comprehension\n",
    "def SieveOfEratosthenes(num):\n",
    "    prime = [True for i in range(num+1)]\n",
    "    list = []\n",
    "\n",
    "    p = 2\n",
    "    while (p * p <= num):\n",
    " \n",
    "        \n",
    "        if (prime[p] == True):\n",
    " \n",
    "          \n",
    "            for i in range(p * p, num+1, p):\n",
    "                prime[i] = False\n",
    "        p += 1\n",
    " \n",
    "   \n",
    "    for p in range(2, num+1):\n",
    "        if prime[p]:\n",
    "            list.append(p)\n",
    "            \n",
    "    return(list)\n"
   ]
  },
  {
   "cell_type": "code",
   "execution_count": 84,
   "id": "99fc6155-039d-4792-beb5-3b6b1a16c9e6",
   "metadata": {},
   "outputs": [],
   "source": [
    "#32. Create a program that generates a list of all Pythagorean triplets up to a specified limit using list comprehension  \n",
    "def Pythagorea_triplets(limit):\n",
    "    return [(R,L,O)\n",
    "            for R in range(1,limit+1)\n",
    "            for L in range(R,limit+1)\n",
    "            for O in range(L,limit+1)\n",
    "            if R**2 + L**2 == O**2]"
   ]
  },
  {
   "cell_type": "code",
   "execution_count": null,
   "id": "43fd2dad-8c6e-4733-b74d-c5564afd7017",
   "metadata": {},
   "outputs": [],
   "source": [
    "#33. Develop a program that generates a list of all possible combinations of two lists using list comprehension\n",
    "import itertools\n",
    "from itertools import permutations\n",
    "def possible_combinations_of_two_lists(list1,list2):\n",
    "    combination = []\n",
    "    A = itertools.permutations(list1,len(list2))\n",
    "    for i in A:\n",
    "        ziip = zip(i,list2)\n",
    "        combination.append(tuple(ziip))\n",
    "    print(combination)\n",
    "list1 = [1,2,3]\n",
    "list2 = [\"a\",\"b\",\"c\"]\n",
    "possible_combinations_of_two_lists(list1,list2)    "
   ]
  },
  {
   "cell_type": "code",
   "execution_count": 8,
   "id": "9a92b930-1b6e-4bf4-b412-789350098ccf",
   "metadata": {},
   "outputs": [],
   "source": [
    "#34. Write a program that calculates the mean, median, and mode of a list of numbers using list comprehension\n",
    "from collections import Counter\n",
    "all_data = []\n",
    "def mean_median_mode(list):\n",
    "    r = ((sum(list) // len(list)))\n",
    "    list = sorted(list)\n",
    "    mid = len(list) // 2\n",
    "    if len(list) % 2 == 0:\n",
    "        p =((list[mid -1] + list[mid] / 2))\n",
    "    else:\n",
    "        p = print(mid)\n",
    "    c =((max(list, key=list.count)))\n",
    "    (all_data.append(r),\n",
    "     all_data.append(p),\n",
    "    all_data.append(c))\n",
    "    \n",
    "    return all_data"
   ]
  },
  {
   "cell_type": "code",
   "execution_count": 25,
   "id": "bbd63a37-5c68-49a9-a394-f7812bfc42f8",
   "metadata": {},
   "outputs": [],
   "source": [
    "#35. Create a program that generates Pascal's triangle up to a specified number of rows using list comprehension\n",
    "from math import factorial\n",
    "def pascals_tringal(n):\n",
    "    for i in range(n):\n",
    "        for j in range(n-i+1):\n",
    "            print(end=\"\")\n",
    "        for j in range(i+1):\n",
    "            print (factorial(i)//(factorial(j)*factorial(i-j)),end=\"\")\n",
    "            \n",
    "\n",
    "        print() "
   ]
  },
  {
   "cell_type": "code",
   "execution_count": null,
   "id": "e8706f6e-0e93-40fd-9b36-19d735671a72",
   "metadata": {},
   "outputs": [],
   "source": [
    "#36. Develop a program that calculates the sum of the digits of a factorial of numbers from 1 to 5 using list comprehension):\n",
    "# call only \"factorial_sum\" function and pass list\n",
    "def factorial(n):\n",
    "    if n==0 or n==1:\n",
    "        return 1\n",
    "    result = 1\n",
    "    for i in range(1,n+1):\n",
    "        result *=i\n",
    "    return result\n",
    "def factorial_sum(list):\n",
    "    d = []\n",
    "    sum = 0\n",
    "    \n",
    "    for i in list:\n",
    "        (d.append(factorial(i)))\n",
    "    for j in d:\n",
    "        sum+=j\n",
    "    return sum\n",
    "list = [1,2,3,4,5]\n",
    "factorial_sum(list)            "
   ]
  },
  {
   "cell_type": "code",
   "execution_count": null,
   "id": "b6140725-b20d-45a2-bbb1-558e45f20929",
   "metadata": {},
   "outputs": [],
   "source": [
    "#37. Write a program that finds the longest word in a sentence using list comprehension\n",
    "def finds_longest_word(sentence):\n",
    "    words = sentence.split()\n",
    "    longest_word = max(words, key=len)\n",
    "    return longest_word\n",
    "sentence = input(\"Enter a sentence: \")\n",
    "result =  finds_longest_word(sentence)\n",
    "print(f\"The longest word in the sentence is '{result}'.\",len(result))"
   ]
  },
  {
   "cell_type": "code",
   "execution_count": null,
   "id": "ff776fe1-4634-41ef-b727-1a766126c139",
   "metadata": {},
   "outputs": [],
   "source": [
    "#38. Create a program that filters a list of strings to include only those with more than three vowels using list comprehension\n",
    "def filters(list1):\n",
    "    vowels = \"aeiouAEIOU\"\n",
    "    return [i for i in list1 if sum(i.count(j)for j in vowels)>=3]\n",
    "list1 = [\"hello\", \"world\", \"python\", \"aeiou\", \"banana\"]\n",
    "filters(list1)    "
   ]
  },
  {
   "cell_type": "code",
   "execution_count": 59,
   "id": "073b5c93-0bfb-4d40-b6fe-6c30af321c0e",
   "metadata": {},
   "outputs": [
    {
     "data": {
      "text/plain": [
       "500500"
      ]
     },
     "execution_count": 59,
     "metadata": {},
     "output_type": "execute_result"
    }
   ],
   "source": [
    "#39. Develop a program that calculates the sum of the digits of numbers from 1 to 1000 using list comprehension\n",
    "def sum_of_digit(n):\n",
    "    s = 0\n",
    "    for i in range(1,n+1):\n",
    "        s +=i\n",
    "    return s\n",
    "#driver code\n",
    "n = 1000\n",
    "sum_of_digit(n)"
   ]
  },
  {
   "cell_type": "code",
   "execution_count": 120,
   "id": "b341c180-52d7-4024-aa55-05b6621025ac",
   "metadata": {},
   "outputs": [],
   "source": [
    "#40. Write a program that generates a list of prime palindromic numbers using list comprehension\n",
    "import sympy\n",
    "def reverse(n):\n",
    "    reversed_num = 0\n",
    "    while n > 0:\n",
    "        reversed_num = reversed_num * 10 + n % 10\n",
    "        n //= 10\n",
    "    return reversed_num\n",
    "def gen_prime_palandromic(n):\n",
    "        return [i for i in range(10,n+1) if i == reverse(i) and sympy.isprime(i) == True]"
   ]
  },
  {
   "cell_type": "code",
   "execution_count": 65,
   "id": "781aaf9c-d7c1-4252-b5ce-e26a99263ba3",
   "metadata": {},
   "outputs": [],
   "source": [
    "def reverse(n):\n",
    "    reversed_num = 0\n",
    "    while n > 0:\n",
    "        reversed_num = reversed_num * 10 + n % 10\n",
    "        n //= 10\n",
    "    return reversed_num"
   ]
  },
  {
   "cell_type": "code",
   "execution_count": 66,
   "id": "54c99fb8-a944-4334-b4be-72a65b4ef362",
   "metadata": {},
   "outputs": [
    {
     "data": {
      "text/plain": [
       "52"
      ]
     },
     "execution_count": 66,
     "metadata": {},
     "output_type": "execute_result"
    }
   ],
   "source": [
    "reverse(25)"
   ]
  },
  {
   "cell_type": "code",
   "execution_count": 134,
   "id": "f8b67333-332f-4fc9-be75-1d092fbc5613",
   "metadata": {},
   "outputs": [
    {
     "data": {
      "text/plain": [
       "True"
      ]
     },
     "execution_count": 134,
     "metadata": {},
     "output_type": "execute_result"
    }
   ],
   "source": [
    "is_prime()"
   ]
  },
  {
   "cell_type": "code",
   "execution_count": null,
   "id": "f6c23f3d-e5b6-46e5-a97a-e7872d00a600",
   "metadata": {},
   "outputs": [],
   "source": []
  }
 ],
 "metadata": {
  "kernelspec": {
   "display_name": "Python 3 (ipykernel)",
   "language": "python",
   "name": "python3"
  },
  "language_info": {
   "codemirror_mode": {
    "name": "ipython",
    "version": 3
   },
   "file_extension": ".py",
   "mimetype": "text/x-python",
   "name": "python",
   "nbconvert_exporter": "python",
   "pygments_lexer": "ipython3",
   "version": "3.10.8"
  }
 },
 "nbformat": 4,
 "nbformat_minor": 5
}
